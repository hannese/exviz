{
 "cells": [
  {
   "cell_type": "code",
   "execution_count": null,
   "metadata": {
    "collapsed": true
   },
   "outputs": [],
   "source": [
    "import numpy as np\n",
    "import runstats\n",
    "import gym\n",
    "import ptitprince as pt\n",
    "import seaborn as sns\n",
    "import matplotlib.pyplot as plt\n",
    "import pandas as pd"
   ]
  },
  {
   "cell_type": "code",
   "execution_count": null,
   "metadata": {},
   "outputs": [],
   "source": [
    "env_list = ['NChain-v0']\n",
    "\n",
    "gamma = 0.99\n",
    "alpha = 0.1\n",
    "num_samples = 100\n",
    "num_iterations = 10\n",
    "max_episodes = 1000\n",
    "num_updates = 5\n",
    "\n",
    "returns = np.zeros((len(env_list), max_episodes // num_updates, num_updates))\n",
    "\n",
    "for i in range(env_list):\n",
    "    env = gym.make(env_list[i])\n",
    "    num_states = env.observation_space.n\n",
    "    num_actions = env.action_space.n\n",
    "    BAC = TabularBAC(num_states, num_actions, gamma, alpha, num_samples, num_iterations)\n",
    "    for t in range(max_episodes):\n",
    "        if t % (max_episodes // num_updates) == 0:\n",
    "            BAC.update_policy()\n",
    "        while True:\n",
    "            a = BAC.get_action(s)\n",
    "            s_, r, done, _ = env.step(a)\n",
    "            BAC.update(s, a, r, s_, done)\n",
    "            episodic_reward += r\n",
    "            if done:\n",
    "                s = env.reset()\n",
    "                print(t, episodic_reward)\n",
    "                returns[i, t % (max_episodes // num_updates), t // (max_episodes // num_updates)] = episodic_reward\n",
    "                episodic_reward = 0\n",
    "                break\n",
    "            else:\n",
    "                s = s_\n",
    "                \n",
    "df = pd.DataFrame(returns[0,:, :], columns=[r'$\\pi_1$', r'$\\pi_2$', r'$\\pi_3$', r'$\\pi_4$', r'$\\pi_5$'])\n",
    "sns.set(style=\"whitegrid\", font_scale=2)\n",
    "f, ax = plt.subplots(figsize=(7, 5))\n",
    "ort = \"h\";\n",
    "pal = sns.color_palette(n_colors=5)\n",
    "ax = pt.half_violinplot(data=df, palette=pal, bw=.2, cut=0.,\n",
    "                            scale=\"area\", width=.6, inner=None, orient=ort)\n",
    "ax = sns.stripplot(data=df, palette=pal, edgecolor=\"white\",\n",
    "                       size=3, jitter=1, zorder=0, orient=ort)\n",
    "ax.set_xlabel(\"R\")\n",
    "ax.set_title(\"NChain\")\n",
    "plt.show()"
   ]
  }
 ],
 "metadata": {
  "kernelspec": {
   "display_name": "Python 2",
   "language": "python",
   "name": "python2"
  },
  "language_info": {
   "codemirror_mode": {
    "name": "ipython",
    "version": 2.0
   },
   "file_extension": ".py",
   "mimetype": "text/x-python",
   "name": "python",
   "nbconvert_exporter": "python",
   "pygments_lexer": "ipython2",
   "version": "2.7.6"
  }
 },
 "nbformat": 4,
 "nbformat_minor": 0
}